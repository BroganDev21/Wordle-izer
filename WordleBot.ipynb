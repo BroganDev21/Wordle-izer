{
 "cells": [
  {
   "cell_type": "markdown",
   "id": "7f441998-9719-43e3-90da-58f91b29938e",
   "metadata": {},
   "source": [
    "# Attempt At a Wordle Solving Bot"
   ]
  },
  {
   "cell_type": "markdown",
   "id": "1833c71e-3111-4ee1-b506-da4e3a0d8c0e",
   "metadata": {},
   "source": [
    "set up necessary imports"
   ]
  },
  {
   "cell_type": "code",
   "execution_count": 1,
   "id": "45da3050-f989-4ce4-b191-45e81df4651f",
   "metadata": {},
   "outputs": [
    {
     "name": "stdout",
     "output_type": "stream",
     "text": [
      "Requirement already satisfied: nltk in c:\\users\\colin\\anaconda3\\envs\\wordlebotanalysis\\lib\\site-packages (3.8.1)\n",
      "Requirement already satisfied: click in c:\\users\\colin\\anaconda3\\envs\\wordlebotanalysis\\lib\\site-packages (from nltk) (8.1.7)\n",
      "Requirement already satisfied: joblib in c:\\users\\colin\\anaconda3\\envs\\wordlebotanalysis\\lib\\site-packages (from nltk) (1.4.2)\n",
      "Requirement already satisfied: regex>=2021.8.3 in c:\\users\\colin\\anaconda3\\envs\\wordlebotanalysis\\lib\\site-packages (from nltk) (2024.5.15)\n",
      "Requirement already satisfied: tqdm in c:\\users\\colin\\anaconda3\\envs\\wordlebotanalysis\\lib\\site-packages (from nltk) (4.66.4)\n",
      "Requirement already satisfied: colorama in c:\\users\\colin\\anaconda3\\envs\\wordlebotanalysis\\lib\\site-packages (from click->nltk) (0.4.6)\n"
     ]
    }
   ],
   "source": [
    "!pip install nltk"
   ]
  },
  {
   "cell_type": "code",
   "execution_count": 1,
   "id": "e7d48545-fba4-44fb-b36c-1275424d0a86",
   "metadata": {},
   "outputs": [],
   "source": [
    "import random\n",
    "import nltk\n",
    "from nltk.corpus import words\n",
    "from collections import Counter\n",
    "import math"
   ]
  },
  {
   "cell_type": "markdown",
   "id": "0170ad1c-e5f2-4aff-bcd5-dcb79c38b2af",
   "metadata": {},
   "source": [
    "Load list of words from the .txt file, filter them accordingly into new file containing only common words from nltk for ease of use for this test."
   ]
  },
  {
   "cell_type": "code",
   "execution_count": 2,
   "id": "f71f0945-77c3-4d5a-93f5-aaaf569e2585",
   "metadata": {},
   "outputs": [
    {
     "name": "stdout",
     "output_type": "stream",
     "text": [
      "Filtered word list saved. Original list had 14855 words, filtered list has 6111 words.\n"
     ]
    }
   ],
   "source": [
    "# Download NLTK data\n",
    "#nltk.download('words')\n",
    "\n",
    "# Load a list of valid 5-letter words from a file\n",
    "with open('wordle-word-list.txt', 'r') as file:\n",
    "    word_list = file.read().splitlines()\n",
    "\n",
    "# Get the list of common English words from NLTK\n",
    "nltk_words = set(words.words())\n",
    "\n",
    "# Filter the word list to include only common words\n",
    "filtered_word_list = [word for word in word_list if word in nltk_words]\n",
    "\n",
    "# Save the filtered word list to a new file\n",
    "with open('filtered-wordle-word-list.txt', 'w') as file:\n",
    "    for word in filtered_word_list:\n",
    "        file.write(f\"{word}\\n\")\n",
    "\n",
    "print(f\"Filtered word list saved. Original list had {len(word_list)} words, filtered list has {len(filtered_word_list)} words.\")"
   ]
  },
  {
   "cell_type": "markdown",
   "id": "c5e9cfd2-f12e-4c50-b040-a2ddc8cb6522",
   "metadata": {},
   "source": [
    "## Feedback"
   ]
  },
  {
   "cell_type": "markdown",
   "id": "90194a0f-1464-4da1-8e85-752109293c8d",
   "metadata": {},
   "source": [
    "Feedback function for displaying the progress of the game. Currently this will be used for both human and bot based feedback reports. \n",
    "Simple GUI based on the worlde gameboard to allow for better visibility."
   ]
  },
  {
   "cell_type": "code",
   "execution_count": 3,
   "id": "b2c817ae-26f6-404c-b98c-24e51b9a9358",
   "metadata": {},
   "outputs": [],
   "source": [
    "def get_feedback(guess, solution):\n",
    "    feedback = [''] * 5\n",
    "    solution_chars = list(solution)\n",
    "    guess_chars = list(guess)\n",
    "    \n",
    "    # First pass: find correct letters (🟩)\n",
    "    for i in range(5):\n",
    "        if guess_chars[i] == solution_chars[i]:\n",
    "            feedback[i] = '🟩'\n",
    "            solution_chars[i] = None  # Remove matched character to avoid duplicates\n",
    "    \n",
    "    # Second pass: find misplaced letters (🟨)\n",
    "    for i in range(5):\n",
    "        if feedback[i] == '':\n",
    "            if guess_chars[i] in solution_chars:\n",
    "                feedback[i] = '🟨'\n",
    "                solution_chars[solution_chars.index(guess_chars[i])] = None\n",
    "            else:\n",
    "                feedback[i] = '⬛'  # Incorrect letters (⬛)\n",
    "    \n",
    "    return ''.join(feedback)"
   ]
  },
  {
   "cell_type": "markdown",
   "id": "4fc5955f-63c6-4bc4-b14f-ab97e34a7556",
   "metadata": {},
   "source": [
    "## Play the wordle game, USER BASED, !!NOT!! BOT"
   ]
  },
  {
   "cell_type": "code",
   "execution_count": null,
   "id": "5a77b300-2dc8-4544-a365-6ffb39cde428",
   "metadata": {},
   "outputs": [],
   "source": [
    "def play_wordle(solution):\n",
    "    guesses = []\n",
    "    while len(guesses) < 6:\n",
    "        guess = input(\"Enter your guess: \").lower()\n",
    "        if len(guess) != 5:\n",
    "            print(\"Guess must be exactly 5 letters long.\")\n",
    "            continue\n",
    "        feedback = get_feedback(guess, solution)\n",
    "        print(f\"Feedback: {feedback}\")\n",
    "        guesses.append((guess, feedback))\n",
    "        if guess == solution:\n",
    "            print(\"Congratulations! You guessed the word!\")\n",
    "            break\n",
    "    else:\n",
    "        print(f\"Sorry, you did not guess the word. The correct word was: {solution}\")\n",
    "    return guesses\n",
    "\n",
    "# Play the game\n",
    "solution = random.choice(filtered_word_list)\n",
    "guesses = play_wordle(solution)"
   ]
  },
  {
   "cell_type": "markdown",
   "id": "62c46110-488f-4875-a4e4-58e77f678d51",
   "metadata": {},
   "source": [
    "## Bot Guess Logic "
   ]
  },
  {
   "cell_type": "markdown",
   "id": "2c9630a0-8699-4b70-85fc-8e33a12e11a3",
   "metadata": {},
   "source": [
    "Currently undefined and using a brute force method in which random guesses are given and no learning is used."
   ]
  },
  {
   "cell_type": "markdown",
   "id": "4fe3bea8-3bf2-4729-ba54-50e42388e558",
   "metadata": {},
   "source": [
    "## Brute Force ##"
   ]
  },
  {
   "cell_type": "code",
   "execution_count": 4,
   "id": "6092dd00-4d96-4cbe-bf65-387ca9a15ea0",
   "metadata": {},
   "outputs": [],
   "source": [
    "def bot_brute_guess(word_list, feedback_history):\n",
    "    return random.choice(word_list)"
   ]
  },
  {
   "cell_type": "markdown",
   "id": "c4e7cd51-0c60-41db-af47-71d07820bca2",
   "metadata": {},
   "source": [
    "## Simple Filter"
   ]
  },
  {
   "cell_type": "code",
   "execution_count": 5,
   "id": "c5019bae-721e-4f77-a463-8629e122013a",
   "metadata": {},
   "outputs": [],
   "source": [
    "def bot_guess_simple(word_list, feedback_history):\n",
    "    # Filter words based on previous feedback\n",
    "    possible_words = word_list\n",
    "    for guess, feedback in feedback_history:\n",
    "        new_possible_words = []\n",
    "        for word in possible_words:\n",
    "            if get_feedback(guess, word) == feedback:\n",
    "                new_possible_words.append(word)\n",
    "        possible_words = new_possible_words\n",
    "    return random.choice(possible_words) if possible_words else random.choice(word_list)"
   ]
  },
  {
   "cell_type": "markdown",
   "id": "a4c598b5-d82c-4c43-9793-03d2c6ff0fab",
   "metadata": {},
   "source": [
    "## Frequency Based"
   ]
  },
  {
   "cell_type": "code",
   "execution_count": 6,
   "id": "1193eb63-b37e-4bea-bda9-510ab627097e",
   "metadata": {},
   "outputs": [],
   "source": [
    "def bot_guess_frequency(word_list, feedback_history):\n",
    "    # Filter words based on previous feedback\n",
    "    possible_words = word_list\n",
    "    for guess, feedback in feedback_history:\n",
    "        new_possible_words = []\n",
    "        for word in possible_words:\n",
    "            if get_feedback(guess, word) == feedback:\n",
    "                new_possible_words.append(word)\n",
    "        possible_words = new_possible_words\n",
    "    \n",
    "    # Calculate letter frequencies\n",
    "    letter_frequencies = Counter(''.join(possible_words))\n",
    "    \n",
    "    # Score words based on letter frequencies\n",
    "    def score_word(word):\n",
    "        return sum(letter_frequencies[letter] for letter in set(word))\n",
    "    \n",
    "    best_guess = max(possible_words, key=score_word)\n",
    "    return best_guess if possible_words else random.choice(word_list)"
   ]
  },
  {
   "cell_type": "markdown",
   "id": "ec446dd0-c1a8-4d5a-a3c1-41862b627625",
   "metadata": {},
   "source": [
    "## Custom Algorithm Based off My Approach"
   ]
  },
  {
   "cell_type": "code",
   "execution_count": 23,
   "id": "103f94e0-d9ae-427d-a8b2-9499ce1acc86",
   "metadata": {},
   "outputs": [],
   "source": [
    "def bot_custom_guess(word_list, feedback_history):\n",
    "    # Define the initial guess with multiple vowels\n",
    "    initial_vowel_guess = \"audio\"  # Can be replaced with any word with multiple vowels\n",
    "\n",
    "    if not feedback_history:\n",
    "        return initial_vowel_guess\n",
    "\n",
    "    # Track letters based on feedback\n",
    "    correct_positions = {}\n",
    "    misplaced_letters = {}\n",
    "    incorrect_letters = set()\n",
    "\n",
    "    for guess, feedback in feedback_history:\n",
    "        for i, (char, fb) in enumerate(zip(guess, feedback)):\n",
    "            if fb == '🟩':\n",
    "                correct_positions[i] = char\n",
    "            elif fb == '🟨':\n",
    "                if char not in misplaced_letters:\n",
    "                    misplaced_letters[char] = []\n",
    "                misplaced_letters[char].append(i)\n",
    "            else:\n",
    "                incorrect_letters.add(char)\n",
    "\n",
    "    # Filter possible words\n",
    "    possible_words = word_list\n",
    "    for guess, feedback in feedback_history:\n",
    "        new_possible_words = []\n",
    "        for word in possible_words:\n",
    "            match = True\n",
    "            for i, (char, fb) in enumerate(zip(guess, feedback)):\n",
    "                if fb == '🟩' and word[i] != char:\n",
    "                    match = False\n",
    "                elif fb == '🟨' and (word[i] == char or char not in word):\n",
    "                    match = False\n",
    "                elif fb == '⬛' and char in word:\n",
    "                    match = False\n",
    "            if match:\n",
    "                new_possible_words.append(word)\n",
    "        possible_words = new_possible_words\n",
    "\n",
    "    # Further filter based on correct positions and misplaced letters\n",
    "    new_possible_words = []\n",
    "    for word in possible_words:\n",
    "        match = True\n",
    "        for i, char in correct_positions.items():\n",
    "            if word[i] != char:\n",
    "                match = False\n",
    "                break\n",
    "        for char, indices in misplaced_letters.items():\n",
    "            if char not in word or any(word[i] == char for i in indices):\n",
    "                match = False\n",
    "                break\n",
    "        if match and all(char not in incorrect_letters for char in word):\n",
    "            new_possible_words.append(word)\n",
    "    possible_words = new_possible_words\n",
    "    \n",
    "    # If no word is found, return a random word from possible words\n",
    "    if possible_words:\n",
    "        return random.choice(possible_words)\n",
    "    else:\n",
    "        # As a fallback, return a random word from the original list if filtering is too strict\n",
    "        return random.choice(word_list)"
   ]
  },
  {
   "cell_type": "markdown",
   "id": "d8920045-46e4-41ed-985b-433862f14851",
   "metadata": {},
   "source": [
    "## Wordle Bot Rules and Function. "
   ]
  },
  {
   "cell_type": "code",
   "execution_count": 13,
   "id": "254ecd2c-dfe1-4cf2-abdf-6c2bb0704505",
   "metadata": {},
   "outputs": [],
   "source": [
    "def play_wordle_bot(solution, word_list, bot_guess_function):\n",
    "    guesses = []\n",
    "    feedback_history = []\n",
    "    while len(guesses) < 6:\n",
    "        guess = bot_guess_function(word_list, feedback_history)\n",
    "        print(f\"Bot guess: {guess}\")  # Debugging print\n",
    "        if len(guess) != 5:\n",
    "            print(\"Invalid guess length, skipping...\")  # Debugging print\n",
    "            continue  # Ensure the bot guess is exactly 5 letters long\n",
    "        feedback = get_feedback(guess, solution)\n",
    "        print(f\"Feedback: {feedback}\")  # Debugging print\n",
    "        feedback_history.append((guess, feedback))\n",
    "        guesses.append((guess, feedback))\n",
    "        if guess == solution:\n",
    "            print(f\"Bot guessed the word! Correct word was: {solution}\")\n",
    "            break\n",
    "    else:\n",
    "        print(f\"Bot did not guess the word. The correct word was: {solution}\")\n",
    "    return guesses"
   ]
  },
  {
   "cell_type": "markdown",
   "id": "275009f7-71d8-4e02-8cf9-5105ddd5e99f",
   "metadata": {},
   "source": [
    "## Execute Bots and Comparison"
   ]
  },
  {
   "cell_type": "code",
   "execution_count": 27,
   "id": "7ac4d8fa-5d90-44af-a0cd-f82b524739aa",
   "metadata": {},
   "outputs": [
    {
     "name": "stdout",
     "output_type": "stream",
     "text": [
      "\n",
      "Running strategy: brute\n",
      "Bot guess: frosh\n",
      "Feedback: ⬛⬛⬛⬛🟩\n",
      "Bot guess: phage\n",
      "Feedback: ⬛🟨🟨⬛🟨\n",
      "Bot guess: manso\n",
      "Feedback: ⬛🟩🟩⬛⬛\n",
      "Bot guess: strew\n",
      "Feedback: ⬛⬛⬛🟩⬛\n",
      "Bot guess: maize\n",
      "Feedback: ⬛🟩⬛⬛🟨\n",
      "Bot guess: kokra\n",
      "Feedback: 🟩⬛⬛⬛🟨\n",
      "Bot did not guess the word. The correct word was: kaneh\n",
      "\n",
      "Running strategy: simple\n",
      "Bot guess: mauve\n",
      "Feedback: ⬛⬛⬛⬛⬛\n",
      "Bot guess: sissy\n",
      "Feedback: ⬛🟩⬛⬛⬛\n",
      "Bot guess: dildo\n",
      "Feedback: ⬛🟩🟩⬛⬛\n",
      "Bot guess: hilch\n",
      "Feedback: ⬛🟩🟩🟩🟩\n",
      "Bot guess: filch\n",
      "Feedback: ⬛🟩🟩🟩🟩\n",
      "Bot guess: pilch\n",
      "Feedback: 🟩🟩🟩🟩🟩\n",
      "Bot guessed the word! Correct word was: pilch\n",
      "\n",
      "Running strategy: frequency\n",
      "Bot guess: arose\n",
      "Feedback: ⬛⬛⬛🟨🟩\n",
      "Bot guess: istle\n",
      "Feedback: ⬛🟨⬛⬛🟩\n",
      "Bot guess: ensue\n",
      "Feedback: 🟨🟨🟨⬛🟩\n",
      "Bot guess: scene\n",
      "Feedback: 🟩🟩🟩🟩🟩\n",
      "Bot guessed the word! Correct word was: scene\n",
      "\n",
      "Running strategy: custom\n",
      "Bot guess: audio\n",
      "Feedback: 🟨⬛🟨⬛⬛\n",
      "Bot guess: bardy\n",
      "Feedback: ⬛🟨⬛🟩🟩\n",
      "Bot guess: shady\n",
      "Feedback: ⬛⬛🟩🟩🟩\n",
      "Bot guess: leady\n",
      "Feedback: 🟩🟩🟩🟩🟩\n",
      "Bot guessed the word! Correct word was: leady\n",
      "Strategy brute solved the puzzle in 6 guesses\n",
      "Strategy simple solved the puzzle in 6 guesses\n",
      "Strategy frequency solved the puzzle in 4 guesses\n",
      "Strategy custom solved the puzzle in 4 guesses\n"
     ]
    }
   ],
   "source": [
    "# Define the strategies\n",
    "strategies = {\n",
    "    'brute': bot_brute_guess,\n",
    "    'simple': bot_guess_simple,\n",
    "    'frequency': bot_guess_frequency,\n",
    "    'custom': bot_custom_guess\n",
    "}\n",
    "\n",
    "# Play the game with each strategy and record the results\n",
    "results = {}\n",
    "for strategy_name, strategy_function in strategies.items():\n",
    "    print(f\"\\nRunning strategy: {strategy_name}\")\n",
    "    solution = random.choice(filtered_word_list)\n",
    "    guesses = play_wordle_bot(solution, filtered_word_list, strategy_function)\n",
    "    results[strategy_name] = len(guesses)\n",
    "\n",
    "# Print the results\n",
    "for strategy_name, num_guesses in results.items():\n",
    "    print(f\"Strategy {strategy_name} solved the puzzle in {num_guesses} guesses\")"
   ]
  },
  {
   "cell_type": "code",
   "execution_count": null,
   "id": "369a6087-534d-413d-aff3-79f426a483f3",
   "metadata": {},
   "outputs": [],
   "source": []
  }
 ],
 "metadata": {
  "kernelspec": {
   "display_name": "Python 3 (ipykernel)",
   "language": "python",
   "name": "python3"
  },
  "language_info": {
   "codemirror_mode": {
    "name": "ipython",
    "version": 3
   },
   "file_extension": ".py",
   "mimetype": "text/x-python",
   "name": "python",
   "nbconvert_exporter": "python",
   "pygments_lexer": "ipython3",
   "version": "3.11.9"
  }
 },
 "nbformat": 4,
 "nbformat_minor": 5
}
