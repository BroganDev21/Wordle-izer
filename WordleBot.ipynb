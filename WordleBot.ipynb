{
 "cells": [
  {
   "cell_type": "markdown",
   "id": "7f441998-9719-43e3-90da-58f91b29938e",
   "metadata": {},
   "source": [
    "# Attempt At a Wordle Solving Bot"
   ]
  },
  {
   "cell_type": "markdown",
   "id": "1833c71e-3111-4ee1-b506-da4e3a0d8c0e",
   "metadata": {},
   "source": [
    "set up necessary imports"
   ]
  },
  {
   "cell_type": "code",
   "execution_count": 1,
   "id": "45da3050-f989-4ce4-b191-45e81df4651f",
   "metadata": {},
   "outputs": [
    {
     "name": "stdout",
     "output_type": "stream",
     "text": [
      "Requirement already satisfied: nltk in c:\\users\\colin\\anaconda3\\envs\\wordlebotanalysis\\lib\\site-packages (3.8.1)\n",
      "Requirement already satisfied: click in c:\\users\\colin\\anaconda3\\envs\\wordlebotanalysis\\lib\\site-packages (from nltk) (8.1.7)\n",
      "Requirement already satisfied: joblib in c:\\users\\colin\\anaconda3\\envs\\wordlebotanalysis\\lib\\site-packages (from nltk) (1.4.2)\n",
      "Requirement already satisfied: regex>=2021.8.3 in c:\\users\\colin\\anaconda3\\envs\\wordlebotanalysis\\lib\\site-packages (from nltk) (2024.5.15)\n",
      "Requirement already satisfied: tqdm in c:\\users\\colin\\anaconda3\\envs\\wordlebotanalysis\\lib\\site-packages (from nltk) (4.66.4)\n",
      "Requirement already satisfied: colorama in c:\\users\\colin\\anaconda3\\envs\\wordlebotanalysis\\lib\\site-packages (from click->nltk) (0.4.6)\n"
     ]
    }
   ],
   "source": [
    "!pip install nltk"
   ]
  },
  {
   "cell_type": "code",
   "execution_count": 1,
   "id": "e7d48545-fba4-44fb-b36c-1275424d0a86",
   "metadata": {},
   "outputs": [],
   "source": [
    "import random\n",
    "import nltk\n",
    "from nltk.corpus import words\n",
    "from collections import Counter\n",
    "import math"
   ]
  },
  {
   "cell_type": "markdown",
   "id": "0170ad1c-e5f2-4aff-bcd5-dcb79c38b2af",
   "metadata": {},
   "source": [
    "Load list of words from the .txt file, filter them accordingly into new file containing only common words from nltk for ease of use for this test."
   ]
  },
  {
   "cell_type": "code",
   "execution_count": 107,
   "id": "f71f0945-77c3-4d5a-93f5-aaaf569e2585",
   "metadata": {},
   "outputs": [
    {
     "name": "stdout",
     "output_type": "stream",
     "text": [
      "Filtered word list saved. Original list had 14855 words, filtered list has 6111 words.\n"
     ]
    }
   ],
   "source": [
    "# Download NLTK data\n",
    "#nltk.download('words')\n",
    "\n",
    "# Load a list of valid 5-letter words from a file\n",
    "with open('wordle-word-list.txt', 'r') as file:\n",
    "    word_list = file.read().splitlines()\n",
    "\n",
    "# Get the list of common English words from NLTK\n",
    "nltk_words = set(words.words())\n",
    "\n",
    "# Filter the word list to include only common words\n",
    "filtered_word_list = [word for word in word_list if word in nltk_words]\n",
    "\n",
    "# Save the filtered word list to a new file\n",
    "with open('filtered-wordle-word-list.txt', 'w') as file:\n",
    "    for word in filtered_word_list:\n",
    "        file.write(f\"{word}\\n\")\n",
    "\n",
    "print(f\"Filtered word list saved. Original list had {len(word_list)} words, filtered list has {len(filtered_word_list)} words.\")\n",
    "\n",
    "solution = random.choice(word_list)"
   ]
  },
  {
   "cell_type": "markdown",
   "id": "c5e9cfd2-f12e-4c50-b040-a2ddc8cb6522",
   "metadata": {},
   "source": [
    "## Feedback"
   ]
  },
  {
   "cell_type": "markdown",
   "id": "90194a0f-1464-4da1-8e85-752109293c8d",
   "metadata": {},
   "source": [
    "Feedback function for displaying the progress of the game. Currently this will be used for both human and bot based feedback reports. \n",
    "Simple GUI based on the worlde gameboard to allow for better visibility."
   ]
  },
  {
   "cell_type": "code",
   "execution_count": 108,
   "id": "b2c817ae-26f6-404c-b98c-24e51b9a9358",
   "metadata": {},
   "outputs": [],
   "source": [
    "def get_feedback(guess, solution):\n",
    "    feedback = [''] * 5\n",
    "    solution_chars = list(solution)\n",
    "    guess_chars = list(guess)\n",
    "    \n",
    "    # First pass: find correct letters (🟩)\n",
    "    for i in range(5):\n",
    "        if guess_chars[i] == solution_chars[i]:\n",
    "            feedback[i] = '🟩'\n",
    "            solution_chars[i] = None  # Remove matched character to avoid duplicates\n",
    "    \n",
    "    # Second pass: find misplaced letters (🟨)\n",
    "    for i in range(5):\n",
    "        if feedback[i] == '':\n",
    "            if guess_chars[i] in solution_chars:\n",
    "                feedback[i] = '🟨'\n",
    "                solution_chars[solution_chars.index(guess_chars[i])] = None\n",
    "            else:\n",
    "                feedback[i] = '⬛'  # Incorrect letters (⬛)\n",
    "    \n",
    "    return ''.join(feedback)"
   ]
  },
  {
   "cell_type": "markdown",
   "id": "4fc5955f-63c6-4bc4-b14f-ab97e34a7556",
   "metadata": {},
   "source": [
    "## Play the wordle game, USER BASED, !!NOT!! BOT"
   ]
  },
  {
   "cell_type": "code",
   "execution_count": null,
   "id": "5a77b300-2dc8-4544-a365-6ffb39cde428",
   "metadata": {},
   "outputs": [],
   "source": [
    "def play_wordle(solution):\n",
    "    guesses = []\n",
    "    while len(guesses) < 6:\n",
    "        guess = input(\"Enter your guess: \").lower()\n",
    "        if len(guess) != 5:\n",
    "            print(\"Guess must be exactly 5 letters long.\")\n",
    "            continue\n",
    "        feedback = get_feedback(guess, solution)\n",
    "        print(f\"Feedback: {feedback}\")\n",
    "        guesses.append((guess, feedback))\n",
    "        if guess == solution:\n",
    "            print(\"Congratulations! You guessed the word!\")\n",
    "            break\n",
    "    else:\n",
    "        print(f\"Sorry, you did not guess the word. The correct word was: {solution}\")\n",
    "    return guesses\n",
    "\n",
    "# Play the game\n",
    "solution = random.choice(filtered_word_list)\n",
    "guesses = play_wordle(solution)"
   ]
  },
  {
   "cell_type": "markdown",
   "id": "62c46110-488f-4875-a4e4-58e77f678d51",
   "metadata": {},
   "source": [
    "## Bot Guess Logic "
   ]
  },
  {
   "cell_type": "markdown",
   "id": "2c9630a0-8699-4b70-85fc-8e33a12e11a3",
   "metadata": {},
   "source": [
    "Currently undefined and using a brute force method in which random guesses are given and no learning is used."
   ]
  },
  {
   "cell_type": "markdown",
   "id": "4fe3bea8-3bf2-4729-ba54-50e42388e558",
   "metadata": {},
   "source": [
    "## Brute Force ##"
   ]
  },
  {
   "cell_type": "code",
   "execution_count": 109,
   "id": "6092dd00-4d96-4cbe-bf65-387ca9a15ea0",
   "metadata": {},
   "outputs": [],
   "source": [
    "def bot_brute_guess(word_list, feedback_history):\n",
    "    return random.choice(word_list)"
   ]
  },
  {
   "cell_type": "markdown",
   "id": "c4e7cd51-0c60-41db-af47-71d07820bca2",
   "metadata": {},
   "source": [
    "## Simple Filter"
   ]
  },
  {
   "cell_type": "code",
   "execution_count": 110,
   "id": "c5019bae-721e-4f77-a463-8629e122013a",
   "metadata": {},
   "outputs": [],
   "source": [
    "def bot_guess_simple(word_list, feedback_history):\n",
    "    # Filter words based on previous feedback\n",
    "    possible_words = word_list\n",
    "    for guess, feedback in feedback_history:\n",
    "        new_possible_words = []\n",
    "        for word in possible_words:\n",
    "            if get_feedback(guess, word) == feedback:\n",
    "                new_possible_words.append(word)\n",
    "        possible_words = new_possible_words\n",
    "    return random.choice(possible_words) if possible_words else random.choice(word_list)"
   ]
  },
  {
   "cell_type": "markdown",
   "id": "a4c598b5-d82c-4c43-9793-03d2c6ff0fab",
   "metadata": {},
   "source": [
    "## Frequency Based"
   ]
  },
  {
   "cell_type": "code",
   "execution_count": 111,
   "id": "1193eb63-b37e-4bea-bda9-510ab627097e",
   "metadata": {},
   "outputs": [],
   "source": [
    "def bot_guess_frequency(word_list, feedback_history):\n",
    "    # Filter words based on previous feedback\n",
    "    possible_words = word_list\n",
    "    for guess, feedback in feedback_history:\n",
    "        new_possible_words = []\n",
    "        for word in possible_words:\n",
    "            if get_feedback(guess, word) == feedback:\n",
    "                new_possible_words.append(word)\n",
    "        possible_words = new_possible_words\n",
    "    \n",
    "    # Calculate letter frequencies\n",
    "    letter_frequencies = Counter(''.join(possible_words))\n",
    "    \n",
    "    # Score words based on letter frequencies\n",
    "    def score_word(word):\n",
    "        return sum(letter_frequencies[letter] for letter in set(word))\n",
    "    \n",
    "    best_guess = max(possible_words, key=score_word)\n",
    "    return best_guess if possible_words else random.choice(word_list)"
   ]
  },
  {
   "cell_type": "markdown",
   "id": "ec446dd0-c1a8-4d5a-a3c1-41862b627625",
   "metadata": {},
   "source": [
    "## Custom Algorithm Based off My Approach"
   ]
  },
  {
   "cell_type": "code",
   "execution_count": 112,
   "id": "103f94e0-d9ae-427d-a8b2-9499ce1acc86",
   "metadata": {},
   "outputs": [],
   "source": [
    "def bot_custom_guess(word_list, feedback_history):\n",
    "    # Define the initial guess with multiple vowels\n",
    "    initial_vowel_guess = \"audio\"  # Can be replaced with any word with multiple vowels\n",
    "\n",
    "    if not feedback_history:\n",
    "        return initial_vowel_guess\n",
    "\n",
    "    # Track letters based on feedback\n",
    "    correct_positions = {}\n",
    "    misplaced_letters = set()\n",
    "    incorrect_letters = set()\n",
    "    must_have_letters = set()\n",
    "    excluded_positions = {i: set() for i in range(5)}\n",
    "    guessed_words = set(guess for guess, _ in feedback_history)  # Track guessed words\n",
    "    known_repeats = set()  # Track letters known to repeat\n",
    "\n",
    "    for guess, feedback in feedback_history:\n",
    "        char_count = {}\n",
    "        for i, (char, fb) in enumerate(zip(guess, feedback)):\n",
    "            if fb == '🟩':\n",
    "                correct_positions[i] = char\n",
    "                must_have_letters.add(char)\n",
    "            elif fb == '🟨':\n",
    "                misplaced_letters.add(char)\n",
    "                excluded_positions[i].add(char)\n",
    "                must_have_letters.add(char)\n",
    "            elif fb == '⬛':\n",
    "                # Only add to incorrect_letters if char is not in correct_positions or misplaced_letters\n",
    "                if char not in correct_positions.values() and char not in misplaced_letters:\n",
    "                    incorrect_letters.add(char)\n",
    "            char_count[char] = char_count.get(char, 0) + 1\n",
    "\n",
    "        # Check for known repeats\n",
    "        for char, count in char_count.items():\n",
    "            if count > 1 and any(fb in ['🟩', '🟨'] for j, fb in enumerate(feedback) if guess[j] == char):\n",
    "                known_repeats.add(char)\n",
    "\n",
    "    print(f\"Correct positions: {correct_positions}\")\n",
    "    print(f\"Misplaced letters: {misplaced_letters}\")\n",
    "    print(f\"Incorrect letters: {incorrect_letters}\")\n",
    "    print(f\"Excluded positions: {excluded_positions}\")\n",
    "    print(f\"Must have letters: {must_have_letters}\")\n",
    "    print(f\"Guessed words: {guessed_words}\")\n",
    "    print(f\"Known repeats: {known_repeats}\")\n",
    "\n",
    "    # Filter possible words\n",
    "    def word_matches_feedback(word):\n",
    "        if word in guessed_words:\n",
    "            return False\n",
    "        for i, char in enumerate(word):\n",
    "            # Exclude words with incorrect letters\n",
    "            if char in incorrect_letters:\n",
    "                return False\n",
    "            # Ensure correct positions (🟩)\n",
    "            if i in correct_positions and word[i] != correct_positions[i]:\n",
    "                return False\n",
    "            # Ensure misplaced letters (🟨) are in the word but not in the excluded positions\n",
    "            if char in misplaced_letters and word[i] in excluded_positions[i]:\n",
    "                return False\n",
    "        # Ensure all must-have letters (🟩 and 🟨) are present in the word\n",
    "        if not all(char in word for char in must_have_letters):\n",
    "            return False\n",
    "        return True\n",
    "\n",
    "    possible_words = [word for word in word_list if word_matches_feedback(word)]\n",
    "\n",
    "    # Prefer words without repeated characters unless known repeats are present\n",
    "    def word_has_repeats(word):\n",
    "        return len(set(word)) < len(word)\n",
    "\n",
    "    if known_repeats:\n",
    "        possible_words = [word for word in possible_words if any(char in known_repeats for char in word)]\n",
    "    else:\n",
    "        possible_words = [word for word in possible_words if not word_has_repeats(word)]\n",
    "\n",
    "    print(f\"Filtered words: {possible_words}\")\n",
    "\n",
    "    # If no word is found, return a random word from the original list\n",
    "    if possible_words:\n",
    "        return random.choice(possible_words)\n",
    "    else:\n",
    "        # As a fallback, return a random word from the original list if filtering is too strict\n",
    "        return random.choice(word_list)\n"
   ]
  },
  {
   "cell_type": "markdown",
   "id": "d8920045-46e4-41ed-985b-433862f14851",
   "metadata": {},
   "source": [
    "## Wordle Bot Rules and Function. "
   ]
  },
  {
   "cell_type": "code",
   "execution_count": 113,
   "id": "254ecd2c-dfe1-4cf2-abdf-6c2bb0704505",
   "metadata": {},
   "outputs": [],
   "source": [
    "def play_wordle_bot(solution, word_list, bot_guess_function):\n",
    "    guesses = []\n",
    "    feedback_history = []\n",
    "    while len(guesses) < 6:\n",
    "        guess = bot_guess_function(word_list, feedback_history)\n",
    "        print(f\"Bot guess: {guess}\")  # Debugging print\n",
    "        if len(guess) != 5:\n",
    "            print(\"Invalid guess length, skipping...\")  # Debugging print\n",
    "            continue  # Ensure the bot guess is exactly 5 letters long\n",
    "        feedback = get_feedback(guess, solution)\n",
    "        print(f\"Feedback: {feedback}\")  # Debugging print\n",
    "        feedback_history.append((guess, feedback))\n",
    "        guesses.append((guess, feedback))\n",
    "        if guess == solution:\n",
    "            print(f\"Bot guessed the word! Correct word was: {solution}\")\n",
    "            break\n",
    "    else:\n",
    "        print(f\"Bot did not guess the word. The correct word was: {solution}\")\n",
    "    return guesses"
   ]
  },
  {
   "cell_type": "markdown",
   "id": "275009f7-71d8-4e02-8cf9-5105ddd5e99f",
   "metadata": {},
   "source": [
    "## Execute Bots and Comparison"
   ]
  },
  {
   "cell_type": "code",
   "execution_count": 124,
   "id": "7ac4d8fa-5d90-44af-a0cd-f82b524739aa",
   "metadata": {},
   "outputs": [
    {
     "name": "stdout",
     "output_type": "stream",
     "text": [
      "\n",
      "Running strategy: brute\n",
      "Bot guess: kiore\n",
      "Feedback: ⬛⬛🟨⬛⬛\n",
      "Bot guess: crimp\n",
      "Feedback: ⬛⬛⬛🟨🟨\n",
      "Bot guess: kanas\n",
      "Feedback: ⬛⬛⬛⬛🟨\n",
      "Bot guess: purpy\n",
      "Feedback: 🟨⬛⬛⬛🟩\n",
      "Bot guess: toses\n",
      "Feedback: ⬛🟩🟨⬛⬛\n",
      "Bot guess: ducal\n",
      "Feedback: ⬛⬛⬛⬛⬛\n",
      "Bot did not guess the word. The correct word was: mopsy\n",
      "\n",
      "Running strategy: simple\n",
      "Bot guess: thees\n",
      "Feedback: ⬛⬛🟩⬛⬛\n",
      "Bot guess: pleno\n",
      "Feedback: ⬛⬛🟩⬛🟩\n",
      "Bot guess: grebo\n",
      "Feedback: 🟩🟩🟩⬛🟩\n",
      "Bot guess: grego\n",
      "Feedback: 🟩🟩🟩🟩🟩\n",
      "Bot guessed the word! Correct word was: grego\n",
      "\n",
      "Running strategy: frequency\n",
      "Bot guess: aeros\n",
      "Feedback: ⬛🟨⬛⬛⬛\n",
      "Bot guess: eldin\n",
      "Feedback: 🟨🟨⬛⬛⬛\n",
      "Bot guess: muley\n",
      "Feedback: ⬛⬛🟩🟩🟨\n",
      "Bot guess: hyleg\n",
      "Feedback: 🟩🟩🟩🟩🟩\n",
      "Bot guessed the word! Correct word was: hyleg\n",
      "\n",
      "Running strategy: custom\n",
      "Bot guess: audio\n",
      "Feedback: 🟨⬛⬛⬛⬛\n",
      "Correct positions: {}\n",
      "Misplaced letters: {'a'}\n",
      "Incorrect letters: {'u', 'd', 'o', 'i'}\n",
      "Excluded positions: {0: {'a'}, 1: set(), 2: set(), 3: set(), 4: set()}\n",
      "Must have letters: {'a'}\n",
      "Guessed words: {'audio'}\n",
      "Known repeats: set()\n",
      "Filtered words: ['bachs', 'backs', 'backy', 'bacne', 'baels', 'bafts', 'bagel', 'baghs', 'bagsy', 'bahts', 'baken', 'baker', 'bakes', 'baler', 'bales', 'balks', 'balky', 'balms', 'balmy', 'bancs', 'banes', 'bangs', 'banks', 'banky', 'bants', 'banty', 'bantz', 'bares', 'barfs', 'barfy', 'barge', 'barks', 'barky', 'barms', 'barmy', 'barns', 'barny', 'barps', 'barye', 'basen', 'baser', 'baste', 'batch', 'bates', 'bathe', 'baths', 'bawks', 'bawls', 'bawns', 'bawrs', 'bawty', 'bayer', 'bayes', 'bayle', 'bayts', 'beach', 'beaks', 'beaky', 'beals', 'beams', 'beamy', 'beans', 'beany', 'bears', 'beast', 'beath', 'beats', 'beaty', 'becap', 'began', 'begar', 'begat', 'bekah', 'belah', 'belar', 'belay', 'belga', 'bemas', 'benga', 'bepat', 'beray', 'besat', 'besaw', 'betas', 'bevan', 'bhang', 'bhats', 'black', 'blaer', 'blaes', 'blags', 'blahs', 'blame', 'blams', 'blanc', 'blank', 'blare', 'blart', 'blase', 'blash', 'blast', 'blate', 'blats', 'blawn', 'blaws', 'blays', 'blaze', 'bleah', 'bleak', 'blear', 'bleat', 'brace', 'brach', 'brack', 'bract', 'braes', 'brags', 'brahs', 'brake', 'braks', 'braky', 'brame', 'brane', 'brank', 'brans', 'brant', 'brash', 'brast', 'brats', 'brave', 'brawl', 'brawn', 'braws', 'braxy', 'brays', 'braze', 'break', 'bream', 'bylaw', 'caber', 'cable', 'cabre', 'cafes', 'cager', 'cages', 'cagey', 'cakes', 'cakey', 'calfs', 'calks', 'calms', 'calmy', 'calps', 'calve', 'calyx', 'camel', 'cames', 'camps', 'campy', 'caneh', 'caner', 'canes', 'cangs', 'canst', 'cants', 'canty', 'caper', 'capes', 'capex', 'caphs', 'caple', 'carbs', 'carby', 'cares', 'caret', 'carex', 'carks', 'carle', 'carls', 'carne', 'carns', 'carny', 'carpe', 'carps', 'carse', 'carte', 'carts', 'carve', 'carvy', 'caser', 'casky', 'caste', 'cater', 'cates', 'cavel', 'caver', 'caves', 'cawks', 'cesta', 'chafe', 'chaft', 'chalk', 'chals', 'champ', 'chams', 'chang', 'chank', 'chant', 'chape', 'chaps', 'chapt', 'chare', 'chark', 'charm', 'chars', 'chart', 'chary', 'chase', 'chasm', 'chats', 'chave', 'chavs', 'chawk', 'chawl', 'chaws', 'chays', 'cheap', 'cheat', 'cheba', 'cheka', 'chela', 'claes', 'clags', 'clame', 'clamp', 'clams', 'clang', 'clank', 'clans', 'claps', 'clapt', 'clart', 'clary', 'clash', 'clasp', 'clast', 'clats', 'clave', 'claws', 'clays', 'clean', 'clear', 'cleat', 'crabs', 'craft', 'crags', 'crake', 'crame', 'cramp', 'crams', 'crane', 'crank', 'crans', 'crape', 'craps', 'crapy', 'crash', 'crate', 'crave', 'crawl', 'craws', 'crays', 'craze', 'crazy', 'creak', 'cream', 'crema', 'crena', 'cyans', 'cymae', 'cymar', 'cymas', 'czars', 'eagly', 'earls', 'early', 'earns', 'earnt', 'earst', 'earth', 'ebank', 'ecash', 'eclat', 'egmas', 'elans', 'elvan', 'emacs', 'embar', 'embay', 'enact', 'enarm', 'epact', 'ephas', 'escar', 'eskar', 'ethal', 'etnas', 'etyma', 'exact', 'exalt', 'exams', 'expat', 'extra', 'eyras', 'fable', 'facer', 'faces', 'facet', 'facey', 'facts', 'facty', 'faery', 'faker', 'fakes', 'fakey', 'fales', 'false', 'falsy', 'fames', 'fancy', 'fanes', 'fangs', 'fanks', 'farce', 'farcy', 'fares', 'farle', 'farls', 'farms', 'farse', 'farts', 'fates', 'fatly', 'favel', 'faver', 'faves', 'fawns', 'fawny', 'faxes', 'fayer', 'fayne', 'fayre', 'fazes', 'feals', 'fears', 'feart', 'feast', 'feats', 'fecal', 'femal', 'feral', 'festa', 'fetal', 'fetas', 'fetwa', 'flabs', 'flack', 'flags', 'flake', 'flaks', 'flaky', 'flame', 'flams', 'flamy', 'flane', 'flank', 'flans', 'flaps', 'flare', 'flary', 'flash', 'flask', 'flats', 'flawn', 'flaws', 'flawy', 'flaxy', 'flays', 'fleam', 'fleas', 'frabs', 'frack', 'fract', 'frags', 'frame', 'franc', 'frank', 'frape', 'fraps', 'frate', 'frats', 'frays', 'freak', 'frena', 'gable', 'gales', 'gambe', 'gambs', 'gamer', 'games', 'gamey', 'gamps', 'ganch', 'ganef', 'ganev', 'ganks', 'gants', 'gaper', 'gapes', 'garbe', 'garbs', 'gares', 'garms', 'garth', 'gashy', 'gaspy', 'gatch', 'gater', 'gates', 'gaths', 'gavel', 'gawcy', 'gawks', 'gawky', 'gawps', 'gawsy', 'gayer', 'gazer', 'gazes', 'geals', 'geans', 'gears', 'geats', 'genal', 'genas', 'gerah', 'getas', 'geyan', 'ghast', 'ghats', 'glace', 'glamp', 'glams', 'glans', 'glare', 'glary', 'glaze', 'glazy', 'gleam', 'glean', 'gleba', 'gnarl', 'gnars', 'gnash', 'gnats', 'gnaws', 'grabs', 'grace', 'graft', 'grame', 'gramp', 'grams', 'grans', 'grant', 'grape', 'graph', 'grapy', 'grasp', 'grate', 'grats', 'grave', 'gravs', 'gravy', 'grays', 'graze', 'great', 'gyals', 'gyans', 'gynae', 'gyral', 'hable', 'hacek', 'hacks', 'hacky', 'haems', 'haets', 'hafts', 'hajes', 'hakes', 'haler', 'hales', 'halfs', 'halms', 'halse', 'halts', 'halve', 'hamel', 'hames', 'hance', 'hangs', 'hanks', 'hanky', 'hanse', 'hants', 'haply', 'harem', 'hares', 'harks', 'harls', 'harms', 'harns', 'harps', 'harpy', 'harts', 'haste', 'hasty', 'hater', 'hates', 'havel', 'haven', 'haver', 'haves', 'hawks', 'hawms', 'hawse', 'hayer', 'hayle', 'hazel', 'hazer', 'hazes', 'hazle', 'heals', 'heaps', 'heapy', 'hears', 'heart', 'heast', 'heats', 'heaty', 'heavy', 'hejab', 'hejra', 'hemal', 'hepar', 'herma', 'hyena', 'hylas', 'hyrax', 'jacet', 'jacks', 'jacky', 'jager', 'jaker', 'jakes', 'jakey', 'jambe', 'jambs', 'james', 'janes', 'janky', 'janty', 'japer', 'japes', 'jarks', 'jarls', 'jarps', 'jasey', 'jaspe', 'javel', 'jawns', 'jeans', 'jeats', 'jelab', 'kales', 'kames', 'kaneh', 'kanes', 'kangs', 'kants', 'kaphs', 'karez', 'karns', 'karst', 'karsy', 'karts', 'karzy', 'kasme', 'kayle', 'kbars', 'kcals', 'kebar', 'kenaf', 'kerma', 'kesar', 'ketas', 'khafs', 'khans', 'khats', 'khyal', 'klang', 'klaps', 'knags', 'knaps', 'knarl', 'knars', 'knave', 'knawe', 'krabs', 'kraft', 'krang', 'krans', 'kranz', 'krays', 'kwela', 'kyang', 'kyars', 'kyats', 'labne', 'lacer', 'laces', 'lacet', 'lacey', 'lacks', 'lacky', 'laers', 'lager', 'laker', 'lakes', 'lakhs', 'lambs', 'lamby', 'lamer', 'lames', 'lamps', 'lance', 'lanch', 'lanes', 'lanks', 'lanky', 'lants', 'lapje', 'lapse', 'larch', 'lares', 'larfs', 'large', 'larks', 'larky', 'larns', 'larnt', 'laser', 'latch', 'laten', 'later', 'latex', 'lathe', 'laths', 'lathy', 'latke', 'laver', 'laves', 'lawer', 'lawks', 'lawns', 'lawny', 'lawsy', 'laxer', 'laxes', 'layer', 'lazes', 'leach', 'leafs', 'leafy', 'leaks', 'leaky', 'leams', 'leans', 'leant', 'leany', 'leaps', 'leapt', 'learn', 'lears', 'leary', 'leash', 'least', 'leats', 'leavy', 'leman', 'lepak', 'lepra', 'lepta', 'levas', 'lyams', 'lyart', 'lyase', 'lycea', 'lycra', 'mabes', 'macer', 'maces', 'mache', 'machs', 'macks', 'macle', 'macte', 'maerl', 'mafts', 'mages', 'mahrs', 'maker', 'makes', 'males', 'malky', 'malts', 'malty', 'maneb', 'maneh', 'manes', 'manet', 'mange', 'mangs', 'mangy', 'manks', 'manky', 'manly', 'manse', 'mante', 'mants', 'manty', 'mapes', 'maple', 'march', 'marcs', 'mares', 'marge', 'margs', 'marks', 'marle', 'marls', 'marly', 'marse', 'marsh', 'marts', 'marvy', 'maser', 'mashy', 'masty', 'match', 'mater', 'mates', 'matey', 'mathe', 'maths', 'maven', 'mawks', 'mawky', 'mawns', 'mawps', 'mawrs', 'maxes', 'maybe', 'mayst', 'mazel', 'mazer', 'mazes', 'mazet', 'mazey', 'mbars', 'meaks', 'meals', 'mealy', 'means', 'meant', 'meany', 'meath', 'meats', 'meaty', 'mecha', 'melas', 'melba', 'mensa', 'menta', 'mesal', 'mesca', 'metal', 'metas', 'mgals', 'myals', 'mylar', 'mynah', 'mynas', 'nabes', 'nabks', 'nache', 'nacre', 'nages', 'naker', 'namer', 'names', 'napes', 'narcs', 'nares', 'narks', 'narky', 'nasty', 'natch', 'nates', 'navel', 'naves', 'navew', 'nazes', 'neals', 'neaps', 'nears', 'neath', 'neats', 'nemas', 'neral', 'neram', 'nerka', 'netas', 'nexal', 'ngram', 'nrtya', 'nyams', 'pacer', 'paces', 'pacey', 'packs', 'packy', 'pacts', 'pager', 'pages', 'pagle', 'pagne', 'paler', 'pales', 'palet', 'palms', 'palmy', 'palsy', 'pamby', 'pance', 'panch', 'panel', 'panes', 'pangs', 'panks', 'pansy', 'pants', 'panty', 'parch', 'parcs', 'paren', 'pares', 'parev', 'parge', 'parks', 'parky', 'parle', 'parly', 'parms', 'parse', 'parte', 'parts', 'party', 'parve', 'pasch', 'pashm', 'paste', 'pasty', 'patch', 'patel', 'paten', 'pater', 'pates', 'paths', 'patly', 'patsy', 'paven', 'paver', 'paves', 'pawer', 'pawks', 'pawky', 'pawls', 'pawns', 'paxes', 'payer', 'peach', 'peags', 'peaks', 'peaky', 'peals', 'peans', 'pearl', 'pears', 'peart', 'peasy', 'peats', 'peaty', 'peavy', 'pebas', 'pecan', 'pegma', 'pekan', 'pelas', 'pelma', 'pelta', 'penal', 'pesta', 'petal', 'petar', 'phage', 'phang', 'phare', 'pharm', 'phase', 'phasm', 'phwat', 'phyla', 'phyma', 'physa', 'place', 'plack', 'plage', 'planc', 'plane', 'planh', 'plank', 'plans', 'plant', 'plash', 'plasm', 'plast', 'plate', 'plats', 'platy', 'plavs', 'plays', 'pleas', 'pleat', 'plena', 'prags', 'prams', 'prang', 'prank', 'prase', 'prate', 'prats', 'praty', 'prawn', 'prays', 'preak', 'presa', 'preta', 'pryan', 'psalm', 'pshaw', 'pyats', 'pygal', 'pyral', 'pyran', 'races', 'rache', 'racks', 'rafts', 'rafty', 'rages', 'rajes', 'rakes', 'rales', 'ralph', 'ramen', 'rames', 'ramet', 'ramps', 'ramse', 'ramsh', 'rance', 'ranch', 'ranes', 'range', 'rangs', 'rangy', 'ranke', 'ranks', 'ranse', 'rants', 'ranty', 'rapes', 'raphe', 'raspy', 'ratch', 'ratel', 'rates', 'rathe', 'raths', 'ravel', 'raven', 'raves', 'ravey', 'rawks', 'rawly', 'rawns', 'raxes', 'rayle', 'rayls', 'rayne', 'razes', 'razet', 'reach', 'react', 'reaks', 'realm', 'reals', 'reams', 'reamy', 'reans', 'reaps', 'reast', 'recal', 'recap', 'recta', 'refan', 'regal', 'regma', 'regna', 'rehab', 'rejas', 'relax', 'relay', 'reman', 'remap', 'renal', 'renay', 'renga', 'repas', 'repat', 'repay', 'repla', 'resam', 'resat', 'resaw', 'resay', 'retag', 'retam', 'retax', 'rewan', 'rewax', 'rheas', 'rhyta', 'ryals', 'rybat', 'saber', 'sable', 'sabre', 'sacre', 'safer', 'sager', 'saheb', 'saker', 'salep', 'salet', 'salty', 'salve', 'samek', 'samel', 'samen', 'samey', 'saner', 'sangh', 'sarge', 'sarky', 'satem', 'sater', 'satyr', 'saver', 'savey', 'sawer', 'sayer', 'sayne', 'scale', 'scalp', 'scaly', 'scamp', 'scant', 'scape', 'scare', 'scarf', 'scarp', 'scart', 'scary', 'scath', 'sceat', 'scena', 'schav', 'schwa', 'scrab', 'scrae', 'scrag', 'scram', 'scran', 'scrap', 'scrat', 'scraw', 'scray', 'seamy', 'segar', 'selah', 'selva', 'senza', 'sepal', 'septa', 'serac', 'seral', 'setal', 'sevak', 'sewan', 'sewar', 'shack', 'shaft', 'shake', 'shakt', 'shaky', 'shale', 'shalm', 'shalt', 'shaly', 'shame', 'shank', 'shape', 'share', 'shark', 'sharn', 'sharp', 'shart', 'shave', 'shawl', 'shawm', 'shawn', 'sheaf', 'sheal', 'shear', 'sheva', 'shtar', 'skarn', 'skart', 'skate', 'skean', 'skear', 'skran', 'slack', 'slake', 'slane', 'slang', 'slank', 'slant', 'slart', 'slate', 'slaty', 'slave', 'smack', 'smalt', 'smart', 'smaze', 'smear', 'snack', 'snake', 'snaky', 'snare', 'snarf', 'snark', 'snarl', 'snary', 'snath', 'sneak', 'sneap', 'space', 'spack', 'spacy', 'spaer', 'spake', 'spale', 'spalt', 'spane', 'spang', 'spank', 'spare', 'spark', 'spart', 'spate', 'spawl', 'spawn', 'speak', 'speal', 'spean', 'spear', 'speat', 'splat', 'splay', 'sprag', 'sprat', 'spray', 'spyal', 'stack', 'stage', 'stagy', 'stake', 'stale', 'stalk', 'stamp', 'stane', 'stang', 'stank', 'staph', 'stare', 'stark', 'starn', 'stary', 'stave', 'steak', 'steal', 'steam', 'stean', 'stear', 'stela', 'strae', 'strag', 'strak', 'strap', 'straw', 'stray', 'swack', 'swage', 'swale', 'swaly', 'swamp', 'swamy', 'swang', 'swank', 'swapt', 'sware', 'swarf', 'swarm', 'swart', 'swath', 'swayl', 'sweal', 'swear', 'sweat', 'sylva', 'symar', 'syrah', 'taber', 'tabes', 'table', 'tabls', 'taces', 'tache', 'tachs', 'tacks', 'tacky', 'taels', 'tahrs', 'tajes', 'taken', 'taker', 'takes', 'talcs', 'talcy', 'taler', 'tales', 'talks', 'talky', 'tamer', 'tames', 'tamps', 'tangs', 'tangy', 'tanhs', 'tanks', 'tanky', 'tansy', 'tapen', 'taper', 'tapes', 'tares', 'targe', 'tarns', 'tarps', 'tarse', 'tarzy', 'taser', 'taver', 'tawer', 'tawny', 'tawse', 'taxer', 'taxes', 'teach', 'teaks', 'teals', 'teams', 'tears', 'teary', 'tepal', 'tepas', 'teras', 'terga', 'terza', 'tesla', 'texas', 'thack', 'thale', 'thane', 'thang', 'thank', 'thans', 'thanx', 'tharm', 'thars', 'thaws', 'thawy', 'theca', 'thema', 'thrae', 'thraw', 'trabs', 'trace', 'track', 'trags', 'tramp', 'trams', 'trank', 'tranq', 'trans', 'trape', 'traps', 'trash', 'trave', 'trawl', 'trayf', 'trays', 'trefa', 'trema', 'tryma', 'twaes', 'twals', 'twang', 'twank', 'tways', 'tweak', 'typal', 'tyran', 'tzars', 'vales', 'valet', 'valse', 'vamps', 'vampy', 'vanes', 'vangs', 'vants', 'vaper', 'vapes', 'varec', 'vares', 'vasty', 'vatje', 'vawte', 'vaxes', 'veals', 'vealy', 'vegan', 'vegas', 'velar', 'venal', 'venas', 'verba', 'versa', 'vespa', 'vesta', 'vlast', 'wacke', 'wacks', 'wacky', 'wafer', 'wafts', 'wager', 'wages', 'wahey', 'waken', 'waker', 'wakes', 'wakfs', 'waler', 'wales', 'walks', 'walty', 'waltz', 'wames', 'wanes', 'waney', 'wangs', 'wanks', 'wanky', 'wanle', 'wanly', 'wants', 'wanty', 'wanze', 'waqfs', 'warbs', 'warby', 'wares', 'warez', 'warks', 'warms', 'warns', 'warps', 'warst', 'warts', 'warty', 'washy', 'waspy', 'waste', 'watch', 'water', 'waver', 'waves', 'wavey', 'waxen', 'waxer', 'waxes', 'weals', 'weamb', 'weans', 'wears', 'weary', 'wekas', 'wetas', 'whack', 'whale', 'whams', 'whang', 'whaps', 'whare', 'wharf', 'whats', 'wheal', 'whear', 'wheat', 'wrack', 'wrang', 'wraps', 'wrapt', 'wrast', 'wrate', 'wrath', 'wreak', 'xrays', 'xylan', 'yacht', 'yacks', 'yager', 'yages', 'yales', 'yamen', 'yangs', 'yanks', 'yarks', 'yarns', 'yates', 'yawls', 'yawns', 'yawps', 'yeahs', 'yealm', 'yeans', 'yearn', 'years', 'yeast', 'yenta', 'yerba', 'yrapt', 'ysame', 'zacks', 'zante', 'zarfs', 'zawns', 'zaxes', 'zeals', 'zebra', 'zetas', 'zygal']\n",
      "Bot guess: beats\n",
      "Feedback: ⬛🟨🟨⬛⬛\n",
      "Correct positions: {}\n",
      "Misplaced letters: {'a', 'e'}\n",
      "Incorrect letters: {'b', 'u', 'd', 'i', 's', 't', 'o'}\n",
      "Excluded positions: {0: {'a'}, 1: {'e'}, 2: {'a'}, 3: set(), 4: set()}\n",
      "Must have letters: {'a', 'e'}\n",
      "Guessed words: {'beats', 'audio'}\n",
      "Known repeats: set()\n",
      "Filtered words: ['cager', 'cagey', 'cakey', 'calve', 'camel', 'caneh', 'caner', 'caper', 'capex', 'caple', 'carex', 'carle', 'carne', 'carpe', 'carve', 'cavel', 'caver', 'cheap', 'cheka', 'chela', 'clean', 'clear', 'creak', 'cream', 'crema', 'crena', 'cymae', 'eagly', 'early', 'elvan', 'facer', 'facey', 'faery', 'faker', 'fakey', 'farce', 'farle', 'favel', 'faver', 'fayer', 'fayne', 'fayre', 'fleam', 'freak', 'frena', 'gamer', 'gamey', 'ganef', 'ganev', 'gaper', 'gavel', 'gayer', 'gazer', 'gleam', 'glean', 'gynae', 'hacek', 'haler', 'halve', 'hamel', 'hance', 'harem', 'havel', 'haven', 'haver', 'hayer', 'hayle', 'hazel', 'hazer', 'hazle', 'hyena', 'jager', 'jaker', 'jakey', 'japer', 'javel', 'kaneh', 'karez', 'kayle', 'kwela', 'lacer', 'lacey', 'lager', 'laker', 'lamer', 'lance', 'lapje', 'large', 'laver', 'lawer', 'laxer', 'layer', 'lycea', 'macer', 'mache', 'macle', 'maerl', 'maker', 'maneh', 'mange', 'maple', 'marge', 'marle', 'maven', 'mazel', 'mazer', 'mazey', 'nache', 'nacre', 'naker', 'namer', 'navel', 'navew', 'pacer', 'pacey', 'pager', 'pagle', 'pagne', 'paler', 'pance', 'panel', 'paren', 'parev', 'parge', 'parle', 'parve', 'paven', 'paver', 'pawer', 'payer', 'plena', 'preak', 'rache', 'ramen', 'rance', 'range', 'ranke', 'raphe', 'ravel', 'raven', 'ravey', 'rayle', 'rayne', 'vaper', 'varec', 'wacke', 'wafer', 'wager', 'wahey', 'waken', 'waker', 'waler', 'waney', 'wanle', 'wanze', 'warez', 'waver', 'wavey', 'waxen', 'waxer', 'wheal', 'whear', 'wreak', 'yager', 'yamen']\n",
      "Bot guess: capex\n",
      "Feedback: ⬛🟨⬛🟨⬛\n",
      "Correct positions: {}\n",
      "Misplaced letters: {'a', 'e'}\n",
      "Incorrect letters: {'b', 'u', 'c', 'd', 'i', 'x', 'p', 's', 't', 'o'}\n",
      "Excluded positions: {0: {'a'}, 1: {'a', 'e'}, 2: {'a'}, 3: {'e'}, 4: set()}\n",
      "Must have letters: {'a', 'e'}\n",
      "Guessed words: {'beats', 'capex', 'audio'}\n",
      "Known repeats: set()\n",
      "Filtered words: ['elvan', 'fleam', 'freak', 'frena', 'gleam', 'glean', 'gynae', 'hyena', 'kwela', 'wheal', 'whear', 'wreak']\n",
      "Bot guess: fleam\n",
      "Feedback: ⬛🟨🟩🟩⬛\n",
      "Correct positions: {2: 'e', 3: 'a'}\n",
      "Misplaced letters: {'l', 'a', 'e'}\n",
      "Incorrect letters: {'b', 'u', 'c', 'd', 'i', 'x', 'p', 's', 'm', 'f', 't', 'o'}\n",
      "Excluded positions: {0: {'a'}, 1: {'l', 'a', 'e'}, 2: {'a'}, 3: {'e'}, 4: set()}\n",
      "Must have letters: {'l', 'a', 'e'}\n",
      "Guessed words: {'beats', 'fleam', 'capex', 'audio'}\n",
      "Known repeats: set()\n",
      "Filtered words: ['wheal']\n",
      "Bot guess: wheal\n",
      "Feedback: 🟩🟩🟩🟩🟩\n",
      "Bot guessed the word! Correct word was: wheal\n",
      "Strategy brute solved the puzzle in 6 guesses\n",
      "Strategy simple solved the puzzle in 4 guesses\n",
      "Strategy frequency solved the puzzle in 4 guesses\n",
      "Strategy custom solved the puzzle in 5 guesses\n"
     ]
    }
   ],
   "source": [
    "# Define the strategies\n",
    "strategies = {\n",
    "    'brute': bot_brute_guess,\n",
    "    'simple': bot_guess_simple,\n",
    "    'frequency': bot_guess_frequency,\n",
    "    'custom': bot_custom_guess\n",
    "}\n",
    "\n",
    "# Play the game with each strategy and record the results\n",
    "results = {}\n",
    "for strategy_name, strategy_function in strategies.items():\n",
    "    print(f\"\\nRunning strategy: {strategy_name}\")\n",
    "    solution = random.choice(word_list)\n",
    "    guesses = play_wordle_bot(solution, word_list, strategy_function)\n",
    "    results[strategy_name] = len(guesses)\n",
    "\n",
    "# Print the results\n",
    "for strategy_name, num_guesses in results.items():\n",
    "    print(f\"Strategy {strategy_name} solved the puzzle in {num_guesses} guesses\")"
   ]
  },
  {
   "cell_type": "code",
   "execution_count": null,
   "id": "60be6516-8040-4609-a101-cf276a34eaf5",
   "metadata": {},
   "outputs": [],
   "source": []
  }
 ],
 "metadata": {
  "kernelspec": {
   "display_name": "Python 3 (ipykernel)",
   "language": "python",
   "name": "python3"
  },
  "language_info": {
   "codemirror_mode": {
    "name": "ipython",
    "version": 3
   },
   "file_extension": ".py",
   "mimetype": "text/x-python",
   "name": "python",
   "nbconvert_exporter": "python",
   "pygments_lexer": "ipython3",
   "version": "3.11.9"
  }
 },
 "nbformat": 4,
 "nbformat_minor": 5
}
